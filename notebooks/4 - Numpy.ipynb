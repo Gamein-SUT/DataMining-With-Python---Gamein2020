{
 "cells": [
  {
   "cell_type": "code",
   "execution_count": 1,
   "metadata": {},
   "outputs": [],
   "source": [
    "L1 = [1, 2, 3]\n",
    "L2 = [1, 4, 9]"
   ]
  },
  {
   "cell_type": "code",
   "execution_count": 2,
   "metadata": {},
   "outputs": [
    {
     "data": {
      "text/plain": [
       "[1, 2, 3, 1, 4, 9]"
      ]
     },
     "execution_count": 2,
     "metadata": {},
     "output_type": "execute_result"
    }
   ],
   "source": [
    "L1+L2"
   ]
  },
  {
   "cell_type": "code",
   "execution_count": 3,
   "metadata": {},
   "outputs": [],
   "source": [
    "res = []\n",
    "for i,j in zip(L1,L2):\n",
    "    res.append(i+j)"
   ]
  },
  {
   "cell_type": "code",
   "execution_count": 4,
   "metadata": {},
   "outputs": [
    {
     "data": {
      "text/plain": [
       "[2, 6, 12]"
      ]
     },
     "execution_count": 4,
     "metadata": {},
     "output_type": "execute_result"
    }
   ],
   "source": [
    "res"
   ]
  },
  {
   "cell_type": "code",
   "execution_count": 5,
   "metadata": {},
   "outputs": [],
   "source": [
    "res= []\n",
    "for i in range(len(L1)):\n",
    "    res.append(L1[i]+L2[i])\n",
    "    "
   ]
  },
  {
   "cell_type": "code",
   "execution_count": 6,
   "metadata": {},
   "outputs": [
    {
     "data": {
      "text/plain": [
       "[2, 6, 12]"
      ]
     },
     "execution_count": 6,
     "metadata": {},
     "output_type": "execute_result"
    }
   ],
   "source": [
    "res"
   ]
  },
  {
   "cell_type": "code",
   "execution_count": 7,
   "metadata": {},
   "outputs": [],
   "source": [
    "import numpy"
   ]
  },
  {
   "cell_type": "code",
   "execution_count": 8,
   "metadata": {},
   "outputs": [],
   "source": [
    "L1 = numpy.array(L1)\n",
    "L2 = numpy.array(L2)"
   ]
  },
  {
   "cell_type": "code",
   "execution_count": 9,
   "metadata": {},
   "outputs": [
    {
     "data": {
      "text/plain": [
       "array([ 2,  6, 12])"
      ]
     },
     "execution_count": 9,
     "metadata": {},
     "output_type": "execute_result"
    }
   ],
   "source": [
    "L1+L2"
   ]
  },
  {
   "cell_type": "code",
   "execution_count": 10,
   "metadata": {},
   "outputs": [],
   "source": [
    "import numpy as np"
   ]
  },
  {
   "cell_type": "code",
   "execution_count": 11,
   "metadata": {},
   "outputs": [],
   "source": [
    "import numpy as havij"
   ]
  },
  {
   "cell_type": "code",
   "execution_count": 12,
   "metadata": {},
   "outputs": [],
   "source": [
    "L1 = np.array(L1)\n",
    "L2 = np.array(L2)"
   ]
  },
  {
   "cell_type": "code",
   "execution_count": 15,
   "metadata": {},
   "outputs": [
    {
     "data": {
      "text/plain": [
       "array([ 2,  6, 12])"
      ]
     },
     "execution_count": 15,
     "metadata": {},
     "output_type": "execute_result"
    }
   ],
   "source": [
    "L1+L2"
   ]
  },
  {
   "cell_type": "code",
   "execution_count": 14,
   "metadata": {},
   "outputs": [],
   "source": [
    "L1 = havij.array(L1)\n",
    "L2 = havij.array(L2)"
   ]
  },
  {
   "cell_type": "code",
   "execution_count": 16,
   "metadata": {},
   "outputs": [
    {
     "data": {
      "text/plain": [
       "array([ 2,  6, 12])"
      ]
     },
     "execution_count": 16,
     "metadata": {},
     "output_type": "execute_result"
    }
   ],
   "source": [
    "L1+L2"
   ]
  },
  {
   "cell_type": "code",
   "execution_count": 25,
   "metadata": {},
   "outputs": [],
   "source": [
    "import math\n",
    "def myfunc(x):\n",
    "    res = []\n",
    "    for i in range(x):\n",
    "        res.append(math.sqrt(i**2+i**3+i**4))\n",
    "    return res"
   ]
  },
  {
   "cell_type": "code",
   "execution_count": 27,
   "metadata": {},
   "outputs": [
    {
     "name": "stdout",
     "output_type": "stream",
     "text": [
      "1.46 s ± 38.7 ms per loop (mean ± std. dev. of 7 runs, 1 loop each)\n"
     ]
    }
   ],
   "source": [
    "%timeit myfunc(1000000)"
   ]
  },
  {
   "cell_type": "code",
   "execution_count": 28,
   "metadata": {},
   "outputs": [],
   "source": [
    "def myfunc(x):\n",
    "    res = np.arange(x)\n",
    "    res = np.sqrt(res**2+res**3+res**4)\n",
    "    return res"
   ]
  },
  {
   "cell_type": "code",
   "execution_count": 29,
   "metadata": {
    "scrolled": true
   },
   "outputs": [
    {
     "name": "stderr",
     "output_type": "stream",
     "text": [
      "<ipython-input-28-31745a1883e2>:3: RuntimeWarning: invalid value encountered in sqrt\n",
      "  res = np.sqrt(res**2+res**3+res**4)\n"
     ]
    },
    {
     "name": "stdout",
     "output_type": "stream",
     "text": [
      "23.2 ms ± 288 µs per loop (mean ± std. dev. of 7 runs, 10 loops each)\n"
     ]
    }
   ],
   "source": [
    "%timeit myfunc(1000000)"
   ]
  },
  {
   "cell_type": "markdown",
   "metadata": {},
   "source": [
    "## Learning"
   ]
  },
  {
   "cell_type": "code",
   "execution_count": 31,
   "metadata": {},
   "outputs": [],
   "source": [
    "import numpy as np"
   ]
  },
  {
   "cell_type": "code",
   "execution_count": 32,
   "metadata": {},
   "outputs": [],
   "source": [
    "L1 = [1,2,1000]"
   ]
  },
  {
   "cell_type": "code",
   "execution_count": 33,
   "metadata": {},
   "outputs": [
    {
     "data": {
      "text/plain": [
       "array([   1,    2, 1000])"
      ]
     },
     "execution_count": 33,
     "metadata": {},
     "output_type": "execute_result"
    }
   ],
   "source": [
    "np.array(L1)"
   ]
  },
  {
   "cell_type": "code",
   "execution_count": 34,
   "metadata": {},
   "outputs": [
    {
     "data": {
      "text/plain": [
       "list"
      ]
     },
     "execution_count": 34,
     "metadata": {},
     "output_type": "execute_result"
    }
   ],
   "source": [
    "type(L1)"
   ]
  },
  {
   "cell_type": "code",
   "execution_count": 36,
   "metadata": {},
   "outputs": [],
   "source": [
    "arr = np.array(L1)"
   ]
  },
  {
   "cell_type": "code",
   "execution_count": 37,
   "metadata": {},
   "outputs": [
    {
     "data": {
      "text/plain": [
       "numpy.ndarray"
      ]
     },
     "execution_count": 37,
     "metadata": {},
     "output_type": "execute_result"
    }
   ],
   "source": [
    "type(arr)"
   ]
  },
  {
   "cell_type": "code",
   "execution_count": 38,
   "metadata": {},
   "outputs": [],
   "source": [
    "my_mat = [[1,2],[3,4]]"
   ]
  },
  {
   "cell_type": "code",
   "execution_count": 39,
   "metadata": {},
   "outputs": [
    {
     "data": {
      "text/plain": [
       "list"
      ]
     },
     "execution_count": 39,
     "metadata": {},
     "output_type": "execute_result"
    }
   ],
   "source": [
    "type(my_mat)"
   ]
  },
  {
   "cell_type": "code",
   "execution_count": 41,
   "metadata": {},
   "outputs": [],
   "source": [
    "my_mat = np.array(my_mat)"
   ]
  },
  {
   "cell_type": "code",
   "execution_count": 42,
   "metadata": {},
   "outputs": [
    {
     "data": {
      "text/plain": [
       "numpy.ndarray"
      ]
     },
     "execution_count": 42,
     "metadata": {},
     "output_type": "execute_result"
    }
   ],
   "source": [
    "type(my_mat)"
   ]
  },
  {
   "cell_type": "code",
   "execution_count": 48,
   "metadata": {},
   "outputs": [
    {
     "data": {
      "text/plain": [
       "array([ 0.,  1.,  2.,  3.,  4.,  5.,  6.,  7.,  8.,  9., 10., 11., 12.,\n",
       "       13., 14., 15., 16., 17., 18., 19., 20., 21., 22., 23., 24., 25.,\n",
       "       26., 27., 28., 29.])"
      ]
     },
     "execution_count": 48,
     "metadata": {},
     "output_type": "execute_result"
    }
   ],
   "source": [
    "np.arange(30.)"
   ]
  },
  {
   "cell_type": "code",
   "execution_count": 51,
   "metadata": {},
   "outputs": [
    {
     "ename": "TypeError",
     "evalue": "'float' object cannot be interpreted as an integer",
     "output_type": "error",
     "traceback": [
      "\u001b[1;31m---------------------------------------------------------------------------\u001b[0m",
      "\u001b[1;31mTypeError\u001b[0m                                 Traceback (most recent call last)",
      "\u001b[1;32m<ipython-input-51-b8ad7fdc2737>\u001b[0m in \u001b[0;36m<module>\u001b[1;34m\u001b[0m\n\u001b[1;32m----> 1\u001b[1;33m \u001b[0mlist\u001b[0m\u001b[1;33m(\u001b[0m\u001b[0mrange\u001b[0m\u001b[1;33m(\u001b[0m\u001b[1;36m0\u001b[0m\u001b[1;33m,\u001b[0m\u001b[1;36m30\u001b[0m\u001b[1;33m,\u001b[0m\u001b[1;36m1.5\u001b[0m\u001b[1;33m)\u001b[0m\u001b[1;33m)\u001b[0m\u001b[1;33m\u001b[0m\u001b[1;33m\u001b[0m\u001b[0m\n\u001b[0m",
      "\u001b[1;31mTypeError\u001b[0m: 'float' object cannot be interpreted as an integer"
     ]
    }
   ],
   "source": [
    "list(range(0,30,1.5))"
   ]
  },
  {
   "cell_type": "code",
   "execution_count": 53,
   "metadata": {},
   "outputs": [],
   "source": [
    "a = np.arange(1.5, 30., 1.4)"
   ]
  },
  {
   "cell_type": "code",
   "execution_count": 55,
   "metadata": {},
   "outputs": [
    {
     "data": {
      "text/plain": [
       "(21,)"
      ]
     },
     "execution_count": 55,
     "metadata": {},
     "output_type": "execute_result"
    }
   ],
   "source": [
    "a.shape"
   ]
  },
  {
   "cell_type": "code",
   "execution_count": 58,
   "metadata": {},
   "outputs": [],
   "source": [
    "a= a.reshape(21,1)"
   ]
  },
  {
   "cell_type": "code",
   "execution_count": 59,
   "metadata": {},
   "outputs": [
    {
     "data": {
      "text/plain": [
       "(21, 1)"
      ]
     },
     "execution_count": 59,
     "metadata": {},
     "output_type": "execute_result"
    }
   ],
   "source": [
    "a.shape"
   ]
  },
  {
   "cell_type": "code",
   "execution_count": 62,
   "metadata": {},
   "outputs": [
    {
     "data": {
      "text/plain": [
       "(1, 21)"
      ]
     },
     "execution_count": 62,
     "metadata": {},
     "output_type": "execute_result"
    }
   ],
   "source": [
    "a.T.shape"
   ]
  },
  {
   "cell_type": "code",
   "execution_count": 63,
   "metadata": {},
   "outputs": [
    {
     "data": {
      "text/plain": [
       "array([[ 3. ],\n",
       "       [ 5.8],\n",
       "       [ 8.6],\n",
       "       [11.4],\n",
       "       [14.2],\n",
       "       [17. ],\n",
       "       [19.8],\n",
       "       [22.6],\n",
       "       [25.4],\n",
       "       [28.2],\n",
       "       [31. ],\n",
       "       [33.8],\n",
       "       [36.6],\n",
       "       [39.4],\n",
       "       [42.2],\n",
       "       [45. ],\n",
       "       [47.8],\n",
       "       [50.6],\n",
       "       [53.4],\n",
       "       [56.2],\n",
       "       [59. ]])"
      ]
     },
     "execution_count": 63,
     "metadata": {},
     "output_type": "execute_result"
    }
   ],
   "source": [
    "a+a"
   ]
  },
  {
   "cell_type": "code",
   "execution_count": 64,
   "metadata": {},
   "outputs": [],
   "source": [
    "a = np.arange(1.5, 30., 1.4)"
   ]
  },
  {
   "cell_type": "code",
   "execution_count": 65,
   "metadata": {},
   "outputs": [
    {
     "data": {
      "text/plain": [
       "array([ 3. ,  5.8,  8.6, 11.4, 14.2, 17. , 19.8, 22.6, 25.4, 28.2, 31. ,\n",
       "       33.8, 36.6, 39.4, 42.2, 45. , 47.8, 50.6, 53.4, 56.2, 59. ])"
      ]
     },
     "execution_count": 65,
     "metadata": {},
     "output_type": "execute_result"
    }
   ],
   "source": [
    "a+a"
   ]
  },
  {
   "cell_type": "code",
   "execution_count": 66,
   "metadata": {},
   "outputs": [
    {
     "data": {
      "text/plain": [
       "array([  2.25,   8.41,  18.49,  32.49,  50.41,  72.25,  98.01, 127.69,\n",
       "       161.29, 198.81, 240.25, 285.61, 334.89, 388.09, 445.21, 506.25,\n",
       "       571.21, 640.09, 712.89, 789.61, 870.25])"
      ]
     },
     "execution_count": 66,
     "metadata": {},
     "output_type": "execute_result"
    }
   ],
   "source": [
    "a*a"
   ]
  },
  {
   "cell_type": "code",
   "execution_count": 67,
   "metadata": {},
   "outputs": [
    {
     "data": {
      "text/plain": [
       "array([1., 1., 1., 1., 1., 1., 1., 1., 1., 1., 1., 1., 1., 1., 1., 1., 1.,\n",
       "       1., 1., 1., 1.])"
      ]
     },
     "execution_count": 67,
     "metadata": {},
     "output_type": "execute_result"
    }
   ],
   "source": [
    "a/a"
   ]
  },
  {
   "cell_type": "code",
   "execution_count": 68,
   "metadata": {},
   "outputs": [],
   "source": [
    "a = np.arange(30., 1.4)"
   ]
  },
  {
   "cell_type": "code",
   "execution_count": 69,
   "metadata": {},
   "outputs": [
    {
     "data": {
      "text/plain": [
       "array([], dtype=float64)"
      ]
     },
     "execution_count": 69,
     "metadata": {},
     "output_type": "execute_result"
    }
   ],
   "source": [
    "a"
   ]
  },
  {
   "cell_type": "code",
   "execution_count": 73,
   "metadata": {},
   "outputs": [],
   "source": [
    "a = np.arange(0,30,2)"
   ]
  },
  {
   "cell_type": "code",
   "execution_count": 78,
   "metadata": {},
   "outputs": [
    {
     "name": "stderr",
     "output_type": "stream",
     "text": [
      "<ipython-input-78-2ff07c3a7a3a>:1: RuntimeWarning: invalid value encountered in true_divide\n",
      "  ab = a/a\n"
     ]
    }
   ],
   "source": [
    "ab = a/a"
   ]
  },
  {
   "cell_type": "code",
   "execution_count": 81,
   "metadata": {},
   "outputs": [
    {
     "data": {
      "text/plain": [
       "numpy.float64"
      ]
     },
     "execution_count": 81,
     "metadata": {},
     "output_type": "execute_result"
    }
   ],
   "source": [
    "type(ab[0])"
   ]
  },
  {
   "cell_type": "code",
   "execution_count": 85,
   "metadata": {},
   "outputs": [
    {
     "data": {
      "text/plain": [
       "nan"
      ]
     },
     "execution_count": 85,
     "metadata": {},
     "output_type": "execute_result"
    }
   ],
   "source": [
    "np.nan * 1"
   ]
  },
  {
   "cell_type": "code",
   "execution_count": 83,
   "metadata": {},
   "outputs": [
    {
     "data": {
      "text/plain": [
       "False"
      ]
     },
     "execution_count": 83,
     "metadata": {},
     "output_type": "execute_result"
    }
   ],
   "source": [
    "np.nan == np.nan"
   ]
  },
  {
   "cell_type": "code",
   "execution_count": 84,
   "metadata": {},
   "outputs": [
    {
     "data": {
      "text/plain": [
       "True"
      ]
     },
     "execution_count": 84,
     "metadata": {},
     "output_type": "execute_result"
    }
   ],
   "source": [
    "np.nan is np.nan"
   ]
  },
  {
   "cell_type": "code",
   "execution_count": 87,
   "metadata": {},
   "outputs": [
    {
     "data": {
      "text/plain": [
       "nan"
      ]
     },
     "execution_count": 87,
     "metadata": {},
     "output_type": "execute_result"
    }
   ],
   "source": [
    "sum(ab)"
   ]
  },
  {
   "cell_type": "code",
   "execution_count": 90,
   "metadata": {},
   "outputs": [],
   "source": [
    "arr = np.arange(1,10,0.1)"
   ]
  },
  {
   "cell_type": "code",
   "execution_count": 91,
   "metadata": {},
   "outputs": [
    {
     "data": {
      "text/plain": [
       "array([ 1.  ,  1.21,  1.44,  1.69,  1.96,  2.25,  2.56,  2.89,  3.24,\n",
       "        3.61,  4.  ,  4.41,  4.84,  5.29,  5.76,  6.25,  6.76,  7.29,\n",
       "        7.84,  8.41,  9.  ,  9.61, 10.24, 10.89, 11.56, 12.25, 12.96,\n",
       "       13.69, 14.44, 15.21, 16.  , 16.81, 17.64, 18.49, 19.36, 20.25,\n",
       "       21.16, 22.09, 23.04, 24.01, 25.  , 26.01, 27.04, 28.09, 29.16,\n",
       "       30.25, 31.36, 32.49, 33.64, 34.81, 36.  , 37.21, 38.44, 39.69,\n",
       "       40.96, 42.25, 43.56, 44.89, 46.24, 47.61, 49.  , 50.41, 51.84,\n",
       "       53.29, 54.76, 56.25, 57.76, 59.29, 60.84, 62.41, 64.  , 65.61,\n",
       "       67.24, 68.89, 70.56, 72.25, 73.96, 75.69, 77.44, 79.21, 81.  ,\n",
       "       82.81, 84.64, 86.49, 88.36, 90.25, 92.16, 94.09, 96.04, 98.01])"
      ]
     },
     "execution_count": 91,
     "metadata": {},
     "output_type": "execute_result"
    }
   ],
   "source": [
    "arr**2"
   ]
  },
  {
   "cell_type": "code",
   "execution_count": 92,
   "metadata": {},
   "outputs": [
    {
     "data": {
      "text/plain": [
       "array([1.        , 1.04880885, 1.09544512, 1.14017543, 1.18321596,\n",
       "       1.22474487, 1.26491106, 1.30384048, 1.34164079, 1.37840488,\n",
       "       1.41421356, 1.44913767, 1.4832397 , 1.51657509, 1.54919334,\n",
       "       1.58113883, 1.61245155, 1.64316767, 1.67332005, 1.70293864,\n",
       "       1.73205081, 1.76068169, 1.78885438, 1.81659021, 1.84390889,\n",
       "       1.87082869, 1.8973666 , 1.92353841, 1.94935887, 1.97484177,\n",
       "       2.        , 2.02484567, 2.04939015, 2.07364414, 2.0976177 ,\n",
       "       2.12132034, 2.14476106, 2.16794834, 2.19089023, 2.21359436,\n",
       "       2.23606798, 2.25831796, 2.28035085, 2.30217289, 2.32379001,\n",
       "       2.34520788, 2.36643191, 2.38746728, 2.40831892, 2.42899156,\n",
       "       2.44948974, 2.46981781, 2.48997992, 2.50998008, 2.52982213,\n",
       "       2.54950976, 2.56904652, 2.58843582, 2.60768096, 2.62678511,\n",
       "       2.64575131, 2.66458252, 2.68328157, 2.70185122, 2.7202941 ,\n",
       "       2.73861279, 2.75680975, 2.77488739, 2.79284801, 2.81069386,\n",
       "       2.82842712, 2.84604989, 2.86356421, 2.88097206, 2.89827535,\n",
       "       2.91547595, 2.93257566, 2.94957624, 2.96647939, 2.98328678,\n",
       "       3.        , 3.01662063, 3.03315018, 3.04959014, 3.06594194,\n",
       "       3.082207  , 3.09838668, 3.1144823 , 3.13049517, 3.14642654])"
      ]
     },
     "execution_count": 92,
     "metadata": {},
     "output_type": "execute_result"
    }
   ],
   "source": [
    "np.sqrt(arr)"
   ]
  },
  {
   "cell_type": "code",
   "execution_count": 93,
   "metadata": {},
   "outputs": [
    {
     "data": {
      "text/plain": [
       "array([2.71828183e+00, 3.00416602e+00, 3.32011692e+00, 3.66929667e+00,\n",
       "       4.05519997e+00, 4.48168907e+00, 4.95303242e+00, 5.47394739e+00,\n",
       "       6.04964746e+00, 6.68589444e+00, 7.38905610e+00, 8.16616991e+00,\n",
       "       9.02501350e+00, 9.97418245e+00, 1.10231764e+01, 1.21824940e+01,\n",
       "       1.34637380e+01, 1.48797317e+01, 1.64446468e+01, 1.81741454e+01,\n",
       "       2.00855369e+01, 2.21979513e+01, 2.45325302e+01, 2.71126389e+01,\n",
       "       2.99641000e+01, 3.31154520e+01, 3.65982344e+01, 4.04473044e+01,\n",
       "       4.47011845e+01, 4.94024491e+01, 5.45981500e+01, 6.03402876e+01,\n",
       "       6.66863310e+01, 7.36997937e+01, 8.14508687e+01, 9.00171313e+01,\n",
       "       9.94843156e+01, 1.09947172e+02, 1.21510418e+02, 1.34289780e+02,\n",
       "       1.48413159e+02, 1.64021907e+02, 1.81272242e+02, 2.00336810e+02,\n",
       "       2.21406416e+02, 2.44691932e+02, 2.70426407e+02, 2.98867401e+02,\n",
       "       3.30299560e+02, 3.65037468e+02, 4.03428793e+02, 4.45857770e+02,\n",
       "       4.92749041e+02, 5.44571910e+02, 6.01845038e+02, 6.65141633e+02,\n",
       "       7.35095189e+02, 8.12405825e+02, 8.97847292e+02, 9.92274716e+02,\n",
       "       1.09663316e+03, 1.21196707e+03, 1.33943076e+03, 1.48029993e+03,\n",
       "       1.63598443e+03, 1.80804241e+03, 1.99819590e+03, 2.20834799e+03,\n",
       "       2.44060198e+03, 2.69728233e+03, 2.98095799e+03, 3.29446808e+03,\n",
       "       3.64095031e+03, 4.02387239e+03, 4.44706675e+03, 4.91476884e+03,\n",
       "       5.43165959e+03, 6.00291222e+03, 6.63424401e+03, 7.33197354e+03,\n",
       "       8.10308393e+03, 8.95529270e+03, 9.89712906e+03, 1.09380192e+04,\n",
       "       1.20883807e+04, 1.33597268e+04, 1.47647816e+04, 1.63176072e+04,\n",
       "       1.80337449e+04, 1.99303704e+04])"
      ]
     },
     "execution_count": 93,
     "metadata": {},
     "output_type": "execute_result"
    }
   ],
   "source": [
    "np.exp(arr)"
   ]
  },
  {
   "cell_type": "code",
   "execution_count": 95,
   "metadata": {},
   "outputs": [
    {
     "data": {
      "text/plain": [
       "9.900000000000007"
      ]
     },
     "execution_count": 95,
     "metadata": {},
     "output_type": "execute_result"
    }
   ],
   "source": [
    "np.max(arr)"
   ]
  },
  {
   "cell_type": "code",
   "execution_count": 96,
   "metadata": {},
   "outputs": [
    {
     "data": {
      "text/plain": [
       "array([ 0.84147098,  0.89120736,  0.93203909,  0.96355819,  0.98544973,\n",
       "        0.99749499,  0.9995736 ,  0.99166481,  0.97384763,  0.94630009,\n",
       "        0.90929743,  0.86320937,  0.8084964 ,  0.74570521,  0.67546318,\n",
       "        0.59847214,  0.51550137,  0.42737988,  0.33498815,  0.23924933,\n",
       "        0.14112001,  0.04158066, -0.05837414, -0.15774569, -0.2555411 ,\n",
       "       -0.35078323, -0.44252044, -0.52983614, -0.61185789, -0.68776616,\n",
       "       -0.7568025 , -0.81827711, -0.87157577, -0.91616594, -0.95160207,\n",
       "       -0.97753012, -0.993691  , -0.99992326, -0.99616461, -0.98245261,\n",
       "       -0.95892427, -0.92581468, -0.88345466, -0.83226744, -0.77276449,\n",
       "       -0.70554033, -0.63126664, -0.55068554, -0.46460218, -0.37387666,\n",
       "       -0.2794155 , -0.1821625 , -0.0830894 ,  0.0168139 ,  0.1165492 ,\n",
       "        0.21511999,  0.31154136,  0.40484992,  0.49411335,  0.57843976,\n",
       "        0.6569866 ,  0.72896904,  0.79366786,  0.85043662,  0.8987081 ,\n",
       "        0.93799998,  0.96791967,  0.98816823,  0.99854335,  0.99894134,\n",
       "        0.98935825,  0.96988981,  0.94073056,  0.90217183,  0.85459891,\n",
       "        0.79848711,  0.7343971 ,  0.66296923,  0.58491719,  0.50102086,\n",
       "        0.41211849,  0.31909836,  0.22288991,  0.12445442,  0.02477543,\n",
       "       -0.07515112, -0.17432678, -0.27176063, -0.36647913, -0.45753589])"
      ]
     },
     "execution_count": 96,
     "metadata": {},
     "output_type": "execute_result"
    }
   ],
   "source": [
    "np.sin(arr)"
   ]
  },
  {
   "cell_type": "code",
   "execution_count": 97,
   "metadata": {},
   "outputs": [
    {
     "data": {
      "text/plain": [
       "dtype('float64')"
      ]
     },
     "execution_count": 97,
     "metadata": {},
     "output_type": "execute_result"
    }
   ],
   "source": [
    "arr.dtype"
   ]
  },
  {
   "cell_type": "code",
   "execution_count": 101,
   "metadata": {},
   "outputs": [
    {
     "data": {
      "text/plain": [
       "dtype('float64')"
      ]
     },
     "execution_count": 101,
     "metadata": {},
     "output_type": "execute_result"
    }
   ],
   "source": [
    "np.array(range(10), dtype=np.float64).dtype"
   ]
  },
  {
   "cell_type": "code",
   "execution_count": 100,
   "metadata": {},
   "outputs": [
    {
     "data": {
      "text/plain": [
       "dtype('int32')"
      ]
     },
     "execution_count": 100,
     "metadata": {},
     "output_type": "execute_result"
    }
   ],
   "source": [
    "np.array(range(10)).dtype"
   ]
  },
  {
   "cell_type": "code",
   "execution_count": 106,
   "metadata": {
    "scrolled": true
   },
   "outputs": [
    {
     "data": {
      "text/plain": [
       "array([0.+0.j, 1.+0.j, 2.+0.j, 3.+0.j, 4.+0.j, 5.+0.j, 6.+0.j, 7.+0.j,\n",
       "       8.+0.j, 9.+0.j])"
      ]
     },
     "execution_count": 106,
     "metadata": {},
     "output_type": "execute_result"
    }
   ],
   "source": [
    "np.array(range(10), dtype=complex)"
   ]
  },
  {
   "cell_type": "markdown",
   "metadata": {},
   "source": [
    "# Nan"
   ]
  },
  {
   "cell_type": "code",
   "execution_count": 186,
   "metadata": {},
   "outputs": [],
   "source": [
    "a= None"
   ]
  },
  {
   "cell_type": "code",
   "execution_count": 187,
   "metadata": {},
   "outputs": [
    {
     "data": {
      "text/plain": [
       "NoneType"
      ]
     },
     "execution_count": 187,
     "metadata": {},
     "output_type": "execute_result"
    }
   ],
   "source": [
    "type(a)"
   ]
  },
  {
   "cell_type": "code",
   "execution_count": 193,
   "metadata": {},
   "outputs": [
    {
     "data": {
      "text/plain": [
       "array([1, 2, None, 50], dtype=object)"
      ]
     },
     "execution_count": 193,
     "metadata": {},
     "output_type": "execute_result"
    }
   ],
   "source": [
    "np.array([1,2,None, 50])"
   ]
  },
  {
   "cell_type": "code",
   "execution_count": 200,
   "metadata": {},
   "outputs": [
    {
     "data": {
      "text/plain": [
       "array([     0,      1,      2, ..., 999997, 999998, 999999])"
      ]
     },
     "execution_count": 200,
     "metadata": {},
     "output_type": "execute_result"
    }
   ],
   "source": [
    "np.arange(1e6, dtype=np.int32)"
   ]
  },
  {
   "cell_type": "code",
   "execution_count": 203,
   "metadata": {},
   "outputs": [
    {
     "name": "stdout",
     "output_type": "stream",
     "text": [
      "71.6 ms ± 2.66 ms per loop (mean ± std. dev. of 7 runs, 10 loops each)\n"
     ]
    }
   ],
   "source": [
    "%timeit np.arange(1e6, dtype='object').sum()"
   ]
  },
  {
   "cell_type": "code",
   "execution_count": 204,
   "metadata": {},
   "outputs": [
    {
     "name": "stdout",
     "output_type": "stream",
     "text": [
      "2.69 ms ± 52.3 µs per loop (mean ± std. dev. of 7 runs, 100 loops each)\n"
     ]
    }
   ],
   "source": [
    "%timeit np.arange(1e6, dtype=np.int32).sum()"
   ]
  },
  {
   "cell_type": "markdown",
   "metadata": {},
   "source": [
    "# Making Numpy array"
   ]
  },
  {
   "cell_type": "code",
   "execution_count": 2,
   "metadata": {},
   "outputs": [],
   "source": [
    "import numpy as np"
   ]
  },
  {
   "cell_type": "code",
   "execution_count": 207,
   "metadata": {},
   "outputs": [
    {
     "data": {
      "text/plain": [
       "array([[0., 0., 0.],\n",
       "       [0., 0., 0.],\n",
       "       [0., 0., 0.]])"
      ]
     },
     "execution_count": 207,
     "metadata": {},
     "output_type": "execute_result"
    }
   ],
   "source": [
    "np.zeros((3,3))"
   ]
  },
  {
   "cell_type": "code",
   "execution_count": 210,
   "metadata": {},
   "outputs": [
    {
     "data": {
      "text/plain": [
       "array([[1., 1., 1.],\n",
       "       [1., 1., 1.],\n",
       "       [1., 1., 1.]])"
      ]
     },
     "execution_count": 210,
     "metadata": {},
     "output_type": "execute_result"
    }
   ],
   "source": [
    "np.ones((3,3))"
   ]
  },
  {
   "cell_type": "code",
   "execution_count": 3,
   "metadata": {},
   "outputs": [
    {
     "data": {
      "text/plain": [
       "array([[0.000e+000, 0.000e+000, 0.000e+000],\n",
       "       [0.000e+000, 0.000e+000, 6.166e-321],\n",
       "       [0.000e+000, 0.000e+000, 0.000e+000]])"
      ]
     },
     "execution_count": 3,
     "metadata": {},
     "output_type": "execute_result"
    }
   ],
   "source": [
    "np.empty((3,3))"
   ]
  },
  {
   "cell_type": "code",
   "execution_count": 4,
   "metadata": {},
   "outputs": [],
   "source": [
    "x = np.array([[1,2,],[3,4]], dtype=complex)"
   ]
  },
  {
   "cell_type": "code",
   "execution_count": 5,
   "metadata": {},
   "outputs": [
    {
     "data": {
      "text/plain": [
       "array([[1.+0.j, 2.+0.j],\n",
       "       [3.+0.j, 4.+0.j]])"
      ]
     },
     "execution_count": 5,
     "metadata": {},
     "output_type": "execute_result"
    }
   ],
   "source": [
    "x"
   ]
  },
  {
   "cell_type": "code",
   "execution_count": 6,
   "metadata": {},
   "outputs": [
    {
     "data": {
      "text/plain": [
       "array([[0.+0.j, 0.+0.j],\n",
       "       [0.+0.j, 0.+0.j]])"
      ]
     },
     "execution_count": 6,
     "metadata": {},
     "output_type": "execute_result"
    }
   ],
   "source": [
    "np.zeros_like(x)"
   ]
  },
  {
   "cell_type": "code",
   "execution_count": 8,
   "metadata": {},
   "outputs": [
    {
     "data": {
      "text/plain": [
       "array([[0.00000000e+000+0.00000000e+000j,\n",
       "        0.00000000e+000+0.00000000e+000j],\n",
       "       [0.00000000e+000+6.16593926e-321j,\n",
       "        8.48798316e-313+8.70018274e-313j]])"
      ]
     },
     "execution_count": 8,
     "metadata": {},
     "output_type": "execute_result"
    }
   ],
   "source": [
    "np.empty_like(x)"
   ]
  },
  {
   "cell_type": "code",
   "execution_count": 51,
   "metadata": {},
   "outputs": [],
   "source": [
    "x= np.ones(4)\n",
    "y = np.ones(4)*5"
   ]
  },
  {
   "cell_type": "code",
   "execution_count": 36,
   "metadata": {},
   "outputs": [
    {
     "data": {
      "text/plain": [
       "array([[1., 1., 1., 1.],\n",
       "       [5., 5., 5., 5.]])"
      ]
     },
     "execution_count": 36,
     "metadata": {},
     "output_type": "execute_result"
    }
   ],
   "source": [
    "np.vstack((x,y))"
   ]
  },
  {
   "cell_type": "code",
   "execution_count": 37,
   "metadata": {},
   "outputs": [
    {
     "data": {
      "text/plain": [
       "array([1., 1., 1., 1., 5., 5., 5., 5.])"
      ]
     },
     "execution_count": 37,
     "metadata": {},
     "output_type": "execute_result"
    }
   ],
   "source": [
    "np.hstack((x,y))"
   ]
  },
  {
   "cell_type": "code",
   "execution_count": 56,
   "metadata": {},
   "outputs": [
    {
     "data": {
      "text/plain": [
       "array([[1., 1., 1., 1.],\n",
       "       [5., 5., 5., 5.]])"
      ]
     },
     "execution_count": 56,
     "metadata": {},
     "output_type": "execute_result"
    }
   ],
   "source": [
    "np.concatenate((x,y), axis=0)"
   ]
  },
  {
   "cell_type": "code",
   "execution_count": 39,
   "metadata": {},
   "outputs": [
    {
     "data": {
      "text/plain": [
       "(4,)"
      ]
     },
     "execution_count": 39,
     "metadata": {},
     "output_type": "execute_result"
    }
   ],
   "source": [
    "x.shape"
   ]
  },
  {
   "cell_type": "code",
   "execution_count": 52,
   "metadata": {},
   "outputs": [],
   "source": [
    "x = x.reshape(1,4)"
   ]
  },
  {
   "cell_type": "code",
   "execution_count": 53,
   "metadata": {},
   "outputs": [],
   "source": [
    "y = y.reshape(1,4)"
   ]
  },
  {
   "cell_type": "code",
   "execution_count": 54,
   "metadata": {},
   "outputs": [
    {
     "data": {
      "text/plain": [
       "(1, 4)"
      ]
     },
     "execution_count": 54,
     "metadata": {},
     "output_type": "execute_result"
    }
   ],
   "source": [
    "x.shape"
   ]
  },
  {
   "cell_type": "code",
   "execution_count": 61,
   "metadata": {},
   "outputs": [
    {
     "data": {
      "text/plain": [
       "array([  0.        ,   0.2004008 ,   0.4008016 ,   0.6012024 ,\n",
       "         0.80160321,   1.00200401,   1.20240481,   1.40280561,\n",
       "         1.60320641,   1.80360721,   2.00400802,   2.20440882,\n",
       "         2.40480962,   2.60521042,   2.80561122,   3.00601202,\n",
       "         3.20641283,   3.40681363,   3.60721443,   3.80761523,\n",
       "         4.00801603,   4.20841683,   4.40881764,   4.60921844,\n",
       "         4.80961924,   5.01002004,   5.21042084,   5.41082164,\n",
       "         5.61122244,   5.81162325,   6.01202405,   6.21242485,\n",
       "         6.41282565,   6.61322645,   6.81362725,   7.01402806,\n",
       "         7.21442886,   7.41482966,   7.61523046,   7.81563126,\n",
       "         8.01603206,   8.21643287,   8.41683367,   8.61723447,\n",
       "         8.81763527,   9.01803607,   9.21843687,   9.41883768,\n",
       "         9.61923848,   9.81963928,  10.02004008,  10.22044088,\n",
       "        10.42084168,  10.62124248,  10.82164329,  11.02204409,\n",
       "        11.22244489,  11.42284569,  11.62324649,  11.82364729,\n",
       "        12.0240481 ,  12.2244489 ,  12.4248497 ,  12.6252505 ,\n",
       "        12.8256513 ,  13.0260521 ,  13.22645291,  13.42685371,\n",
       "        13.62725451,  13.82765531,  14.02805611,  14.22845691,\n",
       "        14.42885772,  14.62925852,  14.82965932,  15.03006012,\n",
       "        15.23046092,  15.43086172,  15.63126253,  15.83166333,\n",
       "        16.03206413,  16.23246493,  16.43286573,  16.63326653,\n",
       "        16.83366733,  17.03406814,  17.23446894,  17.43486974,\n",
       "        17.63527054,  17.83567134,  18.03607214,  18.23647295,\n",
       "        18.43687375,  18.63727455,  18.83767535,  19.03807615,\n",
       "        19.23847695,  19.43887776,  19.63927856,  19.83967936,\n",
       "        20.04008016,  20.24048096,  20.44088176,  20.64128257,\n",
       "        20.84168337,  21.04208417,  21.24248497,  21.44288577,\n",
       "        21.64328657,  21.84368737,  22.04408818,  22.24448898,\n",
       "        22.44488978,  22.64529058,  22.84569138,  23.04609218,\n",
       "        23.24649299,  23.44689379,  23.64729459,  23.84769539,\n",
       "        24.04809619,  24.24849699,  24.4488978 ,  24.6492986 ,\n",
       "        24.8496994 ,  25.0501002 ,  25.250501  ,  25.4509018 ,\n",
       "        25.65130261,  25.85170341,  26.05210421,  26.25250501,\n",
       "        26.45290581,  26.65330661,  26.85370741,  27.05410822,\n",
       "        27.25450902,  27.45490982,  27.65531062,  27.85571142,\n",
       "        28.05611222,  28.25651303,  28.45691383,  28.65731463,\n",
       "        28.85771543,  29.05811623,  29.25851703,  29.45891784,\n",
       "        29.65931864,  29.85971944,  30.06012024,  30.26052104,\n",
       "        30.46092184,  30.66132265,  30.86172345,  31.06212425,\n",
       "        31.26252505,  31.46292585,  31.66332665,  31.86372745,\n",
       "        32.06412826,  32.26452906,  32.46492986,  32.66533066,\n",
       "        32.86573146,  33.06613226,  33.26653307,  33.46693387,\n",
       "        33.66733467,  33.86773547,  34.06813627,  34.26853707,\n",
       "        34.46893788,  34.66933868,  34.86973948,  35.07014028,\n",
       "        35.27054108,  35.47094188,  35.67134269,  35.87174349,\n",
       "        36.07214429,  36.27254509,  36.47294589,  36.67334669,\n",
       "        36.87374749,  37.0741483 ,  37.2745491 ,  37.4749499 ,\n",
       "        37.6753507 ,  37.8757515 ,  38.0761523 ,  38.27655311,\n",
       "        38.47695391,  38.67735471,  38.87775551,  39.07815631,\n",
       "        39.27855711,  39.47895792,  39.67935872,  39.87975952,\n",
       "        40.08016032,  40.28056112,  40.48096192,  40.68136273,\n",
       "        40.88176353,  41.08216433,  41.28256513,  41.48296593,\n",
       "        41.68336673,  41.88376754,  42.08416834,  42.28456914,\n",
       "        42.48496994,  42.68537074,  42.88577154,  43.08617234,\n",
       "        43.28657315,  43.48697395,  43.68737475,  43.88777555,\n",
       "        44.08817635,  44.28857715,  44.48897796,  44.68937876,\n",
       "        44.88977956,  45.09018036,  45.29058116,  45.49098196,\n",
       "        45.69138277,  45.89178357,  46.09218437,  46.29258517,\n",
       "        46.49298597,  46.69338677,  46.89378758,  47.09418838,\n",
       "        47.29458918,  47.49498998,  47.69539078,  47.89579158,\n",
       "        48.09619238,  48.29659319,  48.49699399,  48.69739479,\n",
       "        48.89779559,  49.09819639,  49.29859719,  49.498998  ,\n",
       "        49.6993988 ,  49.8997996 ,  50.1002004 ,  50.3006012 ,\n",
       "        50.501002  ,  50.70140281,  50.90180361,  51.10220441,\n",
       "        51.30260521,  51.50300601,  51.70340681,  51.90380762,\n",
       "        52.10420842,  52.30460922,  52.50501002,  52.70541082,\n",
       "        52.90581162,  53.10621242,  53.30661323,  53.50701403,\n",
       "        53.70741483,  53.90781563,  54.10821643,  54.30861723,\n",
       "        54.50901804,  54.70941884,  54.90981964,  55.11022044,\n",
       "        55.31062124,  55.51102204,  55.71142285,  55.91182365,\n",
       "        56.11222445,  56.31262525,  56.51302605,  56.71342685,\n",
       "        56.91382766,  57.11422846,  57.31462926,  57.51503006,\n",
       "        57.71543086,  57.91583166,  58.11623246,  58.31663327,\n",
       "        58.51703407,  58.71743487,  58.91783567,  59.11823647,\n",
       "        59.31863727,  59.51903808,  59.71943888,  59.91983968,\n",
       "        60.12024048,  60.32064128,  60.52104208,  60.72144289,\n",
       "        60.92184369,  61.12224449,  61.32264529,  61.52304609,\n",
       "        61.72344689,  61.9238477 ,  62.1242485 ,  62.3246493 ,\n",
       "        62.5250501 ,  62.7254509 ,  62.9258517 ,  63.12625251,\n",
       "        63.32665331,  63.52705411,  63.72745491,  63.92785571,\n",
       "        64.12825651,  64.32865731,  64.52905812,  64.72945892,\n",
       "        64.92985972,  65.13026052,  65.33066132,  65.53106212,\n",
       "        65.73146293,  65.93186373,  66.13226453,  66.33266533,\n",
       "        66.53306613,  66.73346693,  66.93386774,  67.13426854,\n",
       "        67.33466934,  67.53507014,  67.73547094,  67.93587174,\n",
       "        68.13627255,  68.33667335,  68.53707415,  68.73747495,\n",
       "        68.93787575,  69.13827655,  69.33867735,  69.53907816,\n",
       "        69.73947896,  69.93987976,  70.14028056,  70.34068136,\n",
       "        70.54108216,  70.74148297,  70.94188377,  71.14228457,\n",
       "        71.34268537,  71.54308617,  71.74348697,  71.94388778,\n",
       "        72.14428858,  72.34468938,  72.54509018,  72.74549098,\n",
       "        72.94589178,  73.14629259,  73.34669339,  73.54709419,\n",
       "        73.74749499,  73.94789579,  74.14829659,  74.34869739,\n",
       "        74.5490982 ,  74.749499  ,  74.9498998 ,  75.1503006 ,\n",
       "        75.3507014 ,  75.5511022 ,  75.75150301,  75.95190381,\n",
       "        76.15230461,  76.35270541,  76.55310621,  76.75350701,\n",
       "        76.95390782,  77.15430862,  77.35470942,  77.55511022,\n",
       "        77.75551102,  77.95591182,  78.15631263,  78.35671343,\n",
       "        78.55711423,  78.75751503,  78.95791583,  79.15831663,\n",
       "        79.35871743,  79.55911824,  79.75951904,  79.95991984,\n",
       "        80.16032064,  80.36072144,  80.56112224,  80.76152305,\n",
       "        80.96192385,  81.16232465,  81.36272545,  81.56312625,\n",
       "        81.76352705,  81.96392786,  82.16432866,  82.36472946,\n",
       "        82.56513026,  82.76553106,  82.96593186,  83.16633267,\n",
       "        83.36673347,  83.56713427,  83.76753507,  83.96793587,\n",
       "        84.16833667,  84.36873747,  84.56913828,  84.76953908,\n",
       "        84.96993988,  85.17034068,  85.37074148,  85.57114228,\n",
       "        85.77154309,  85.97194389,  86.17234469,  86.37274549,\n",
       "        86.57314629,  86.77354709,  86.9739479 ,  87.1743487 ,\n",
       "        87.3747495 ,  87.5751503 ,  87.7755511 ,  87.9759519 ,\n",
       "        88.17635271,  88.37675351,  88.57715431,  88.77755511,\n",
       "        88.97795591,  89.17835671,  89.37875752,  89.57915832,\n",
       "        89.77955912,  89.97995992,  90.18036072,  90.38076152,\n",
       "        90.58116232,  90.78156313,  90.98196393,  91.18236473,\n",
       "        91.38276553,  91.58316633,  91.78356713,  91.98396794,\n",
       "        92.18436874,  92.38476954,  92.58517034,  92.78557114,\n",
       "        92.98597194,  93.18637275,  93.38677355,  93.58717435,\n",
       "        93.78757515,  93.98797595,  94.18837675,  94.38877756,\n",
       "        94.58917836,  94.78957916,  94.98997996,  95.19038076,\n",
       "        95.39078156,  95.59118236,  95.79158317,  95.99198397,\n",
       "        96.19238477,  96.39278557,  96.59318637,  96.79358717,\n",
       "        96.99398798,  97.19438878,  97.39478958,  97.59519038,\n",
       "        97.79559118,  97.99599198,  98.19639279,  98.39679359,\n",
       "        98.59719439,  98.79759519,  98.99799599,  99.19839679,\n",
       "        99.3987976 ,  99.5991984 ,  99.7995992 , 100.        ])"
      ]
     },
     "execution_count": 61,
     "metadata": {},
     "output_type": "execute_result"
    }
   ],
   "source": [
    "np.linspace(0,100,500)"
   ]
  },
  {
   "cell_type": "markdown",
   "metadata": {},
   "source": [
    "# Index"
   ]
  },
  {
   "cell_type": "code",
   "execution_count": 77,
   "metadata": {},
   "outputs": [],
   "source": [
    "arr = np.array([1,2,3,4])"
   ]
  },
  {
   "cell_type": "code",
   "execution_count": 78,
   "metadata": {},
   "outputs": [
    {
     "data": {
      "text/plain": [
       "array([1, 2, 3, 4])"
      ]
     },
     "execution_count": 78,
     "metadata": {},
     "output_type": "execute_result"
    }
   ],
   "source": [
    "arr"
   ]
  },
  {
   "cell_type": "code",
   "execution_count": 79,
   "metadata": {},
   "outputs": [
    {
     "data": {
      "text/plain": [
       "4"
      ]
     },
     "execution_count": 79,
     "metadata": {},
     "output_type": "execute_result"
    }
   ],
   "source": [
    "arr[-1]"
   ]
  },
  {
   "cell_type": "code",
   "execution_count": 80,
   "metadata": {},
   "outputs": [
    {
     "data": {
      "text/plain": [
       "array([1, 3, 4])"
      ]
     },
     "execution_count": 80,
     "metadata": {},
     "output_type": "execute_result"
    }
   ],
   "source": [
    "arr[[True, False, True, True]]"
   ]
  },
  {
   "cell_type": "code",
   "execution_count": 81,
   "metadata": {},
   "outputs": [
    {
     "data": {
      "text/plain": [
       "array([ True, False,  True,  True])"
      ]
     },
     "execution_count": 81,
     "metadata": {},
     "output_type": "execute_result"
    }
   ],
   "source": [
    "arr != 2"
   ]
  },
  {
   "cell_type": "code",
   "execution_count": 82,
   "metadata": {},
   "outputs": [
    {
     "data": {
      "text/plain": [
       "array([1, 3, 4])"
      ]
     },
     "execution_count": 82,
     "metadata": {},
     "output_type": "execute_result"
    }
   ],
   "source": [
    "arr[arr != 2]"
   ]
  },
  {
   "cell_type": "code",
   "execution_count": 84,
   "metadata": {},
   "outputs": [
    {
     "data": {
      "text/plain": [
       "array([1, 2])"
      ]
     },
     "execution_count": 84,
     "metadata": {},
     "output_type": "execute_result"
    }
   ],
   "source": [
    "arr[arr<=2]"
   ]
  },
  {
   "cell_type": "code",
   "execution_count": 85,
   "metadata": {},
   "outputs": [],
   "source": [
    "arr = np.linspace(1,200)"
   ]
  },
  {
   "cell_type": "code",
   "execution_count": 89,
   "metadata": {},
   "outputs": [
    {
     "data": {
      "text/plain": [
       "array([ 1.        ,  5.06122449,  9.12244898, 13.18367347, 17.24489796,\n",
       "       21.30612245, 25.36734694, 29.42857143, 33.48979592, 37.55102041,\n",
       "       41.6122449 , 45.67346939, 49.73469388])"
      ]
     },
     "execution_count": 89,
     "metadata": {},
     "output_type": "execute_result"
    }
   ],
   "source": [
    "arr[arr<50]"
   ]
  },
  {
   "cell_type": "code",
   "execution_count": 88,
   "metadata": {
    "scrolled": true
   },
   "outputs": [
    {
     "data": {
      "text/plain": [
       "array([  1.        ,   5.06122449,   9.12244898,  13.18367347,\n",
       "        17.24489796,  21.30612245,  25.36734694,  29.42857143,\n",
       "        33.48979592,  37.55102041,  41.6122449 ,  45.67346939,\n",
       "        49.73469388,  53.79591837,  57.85714286,  61.91836735,\n",
       "        65.97959184,  70.04081633,  74.10204082,  78.16326531,\n",
       "        82.2244898 ,  86.28571429,  90.34693878,  94.40816327,\n",
       "        98.46938776, 102.53061224, 106.59183673, 110.65306122,\n",
       "       114.71428571, 118.7755102 , 122.83673469, 126.89795918,\n",
       "       130.95918367, 135.02040816, 139.08163265, 143.14285714,\n",
       "       147.20408163, 151.26530612, 155.32653061, 159.3877551 ,\n",
       "       163.44897959, 167.51020408, 171.57142857, 175.63265306,\n",
       "       179.69387755, 183.75510204, 187.81632653, 191.87755102,\n",
       "       195.93877551, 200.        ])"
      ]
     },
     "execution_count": 88,
     "metadata": {},
     "output_type": "execute_result"
    }
   ],
   "source": [
    "arr"
   ]
  },
  {
   "cell_type": "code",
   "execution_count": 99,
   "metadata": {},
   "outputs": [
    {
     "data": {
      "text/plain": [
       "array([31, 36, 93, 28, 28,  6, 65, 81, 72,  4, 31, 32,  5, 90,  7,  9, 88,\n",
       "       91, 97, 69, 46, 31, 54, 39, 48, 82, 22, 43, 65, 59, 60, 86, 16, 20,\n",
       "       62, 94,  6, 13, 99, 82, 91, 59, 69,  6, 73, 16,  7, 27, 92,  3, 43,\n",
       "       55, 44, 10, 83, 55,  2, 22, 87, 95, 60, 32,  7, 46, 14, 80, 16, 26,\n",
       "       20, 69, 41, 62, 11, 77, 93, 20, 47, 42, 39, 50, 24, 18, 20, 63, 68,\n",
       "       50, 94, 70, 91, 26, 58, 27, 70, 16,  5, 71, 58, 44, 15, 14])"
      ]
     },
     "execution_count": 99,
     "metadata": {},
     "output_type": "execute_result"
    }
   ],
   "source": [
    "np.random.randint(2,100,100)"
   ]
  },
  {
   "cell_type": "code",
   "execution_count": 100,
   "metadata": {},
   "outputs": [],
   "source": [
    "import math"
   ]
  },
  {
   "cell_type": "code",
   "execution_count": 101,
   "metadata": {},
   "outputs": [
    {
     "ename": "TypeError",
     "evalue": "must be real number, not list",
     "output_type": "error",
     "traceback": [
      "\u001b[1;31m---------------------------------------------------------------------------\u001b[0m",
      "\u001b[1;31mTypeError\u001b[0m                                 Traceback (most recent call last)",
      "\u001b[1;32m<ipython-input-101-6393a8c67062>\u001b[0m in \u001b[0;36m<module>\u001b[1;34m\u001b[0m\n\u001b[1;32m----> 1\u001b[1;33m \u001b[0mmath\u001b[0m\u001b[1;33m.\u001b[0m\u001b[0msin\u001b[0m\u001b[1;33m(\u001b[0m\u001b[1;33m[\u001b[0m\u001b[1;36m0\u001b[0m\u001b[1;33m,\u001b[0m\u001b[1;36m1.4\u001b[0m\u001b[1;33m]\u001b[0m\u001b[1;33m)\u001b[0m\u001b[1;33m\u001b[0m\u001b[1;33m\u001b[0m\u001b[0m\n\u001b[0m",
      "\u001b[1;31mTypeError\u001b[0m: must be real number, not list"
     ]
    }
   ],
   "source": [
    "math.sin([0,1.4])"
   ]
  },
  {
   "cell_type": "code",
   "execution_count": 102,
   "metadata": {},
   "outputs": [],
   "source": [
    "vsin = np.vectorize(math.sin)"
   ]
  },
  {
   "cell_type": "code",
   "execution_count": 103,
   "metadata": {},
   "outputs": [
    {
     "data": {
      "text/plain": [
       "array([0.        , 0.98544973])"
      ]
     },
     "execution_count": 103,
     "metadata": {},
     "output_type": "execute_result"
    }
   ],
   "source": [
    "vsin([0,1.4])"
   ]
  },
  {
   "cell_type": "code",
   "execution_count": 105,
   "metadata": {},
   "outputs": [
    {
     "data": {
      "text/plain": [
       "array([[1., 0.],\n",
       "       [0., 1.]])"
      ]
     },
     "execution_count": 105,
     "metadata": {},
     "output_type": "execute_result"
    }
   ],
   "source": [
    "np.eye(2)"
   ]
  },
  {
   "cell_type": "code",
   "execution_count": 110,
   "metadata": {},
   "outputs": [
    {
     "data": {
      "text/plain": [
       "array([[ 0,  1,  2,  3,  4],\n",
       "       [ 5,  6,  7,  8,  9],\n",
       "       [10, 11, 12, 13, 14],\n",
       "       [15, 16, 17, 18, 19],\n",
       "       [20, 21, 22, 23, 24],\n",
       "       [25, 26, 27, 28, 29],\n",
       "       [30, 31, 32, 33, 34],\n",
       "       [35, 36, 37, 38, 39],\n",
       "       [40, 41, 42, 43, 44],\n",
       "       [45, 46, 47, 48, 49],\n",
       "       [50, 51, 52, 53, 54],\n",
       "       [55, 56, 57, 58, 59],\n",
       "       [60, 61, 62, 63, 64],\n",
       "       [65, 66, 67, 68, 69],\n",
       "       [70, 71, 72, 73, 74],\n",
       "       [75, 76, 77, 78, 79],\n",
       "       [80, 81, 82, 83, 84],\n",
       "       [85, 86, 87, 88, 89],\n",
       "       [90, 91, 92, 93, 94],\n",
       "       [95, 96, 97, 98, 99]])"
      ]
     },
     "execution_count": 110,
     "metadata": {},
     "output_type": "execute_result"
    }
   ],
   "source": [
    "np.arange(100).reshape(20,-1)"
   ]
  },
  {
   "cell_type": "markdown",
   "metadata": {},
   "source": [
    "# Logical Comparison"
   ]
  },
  {
   "cell_type": "code",
   "execution_count": 141,
   "metadata": {},
   "outputs": [],
   "source": [
    "v = np.array([1,2,3])\n",
    "w = np.array([1,2,4])"
   ]
  },
  {
   "cell_type": "code",
   "execution_count": 142,
   "metadata": {},
   "outputs": [
    {
     "data": {
      "text/plain": [
       "array([ True,  True, False])"
      ]
     },
     "execution_count": 142,
     "metadata": {},
     "output_type": "execute_result"
    }
   ],
   "source": [
    "v == w"
   ]
  },
  {
   "cell_type": "code",
   "execution_count": 135,
   "metadata": {},
   "outputs": [
    {
     "name": "stdout",
     "output_type": "stream",
     "text": [
      "They are equal\n"
     ]
    }
   ],
   "source": [
    "if ((v==w).any()):\n",
    "    print(\"They are equal\")\n",
    "else:\n",
    "    print(\"They are not equal\")"
   ]
  },
  {
   "cell_type": "code",
   "execution_count": 143,
   "metadata": {},
   "outputs": [
    {
     "data": {
      "text/plain": [
       "array([ True,  True, False])"
      ]
     },
     "execution_count": 143,
     "metadata": {},
     "output_type": "execute_result"
    }
   ],
   "source": [
    "(v == w) & (v == w)"
   ]
  },
  {
   "cell_type": "code",
   "execution_count": 144,
   "metadata": {},
   "outputs": [
    {
     "data": {
      "text/plain": [
       "array([ True,  True, False])"
      ]
     },
     "execution_count": 144,
     "metadata": {},
     "output_type": "execute_result"
    }
   ],
   "source": [
    "np.logical_and(v == w, v == w)"
   ]
  },
  {
   "cell_type": "code",
   "execution_count": null,
   "metadata": {},
   "outputs": [],
   "source": []
  },
  {
   "cell_type": "code",
   "execution_count": 147,
   "metadata": {},
   "outputs": [],
   "source": [
    "arr = np.random.rand(100,100)"
   ]
  },
  {
   "cell_type": "code",
   "execution_count": 152,
   "metadata": {},
   "outputs": [],
   "source": [
    "np.savetxt(\"out.txt\", arr)"
   ]
  },
  {
   "cell_type": "code",
   "execution_count": 155,
   "metadata": {
    "scrolled": true
   },
   "outputs": [
    {
     "data": {
      "text/plain": [
       "array([[0.11948313, 0.91022723, 0.25086472, ..., 0.26489687, 0.84032701,\n",
       "        0.52142903],\n",
       "       [0.98619511, 0.29069497, 0.1013194 , ..., 0.4839556 , 0.53356839,\n",
       "        0.56048346],\n",
       "       [0.21491772, 0.30082532, 0.23040455, ..., 0.99104667, 0.93824993,\n",
       "        0.67311306],\n",
       "       ...,\n",
       "       [0.42265135, 0.47607619, 0.14554355, ..., 0.43793888, 0.10813268,\n",
       "        0.09853369],\n",
       "       [0.13091192, 0.3156468 , 0.63470475, ..., 0.57313239, 0.90604536,\n",
       "        0.49259936],\n",
       "       [0.4410411 , 0.50158932, 0.51293621, ..., 0.40450856, 0.85374927,\n",
       "        0.09760165]])"
      ]
     },
     "execution_count": 155,
     "metadata": {},
     "output_type": "execute_result"
    }
   ],
   "source": [
    "np.loadtxt(\"out.txt\")"
   ]
  },
  {
   "cell_type": "code",
   "execution_count": null,
   "metadata": {},
   "outputs": [],
   "source": [
    "np.save"
   ]
  },
  {
   "cell_type": "code",
   "execution_count": 150,
   "metadata": {},
   "outputs": [],
   "source": [
    "import os"
   ]
  },
  {
   "cell_type": "code",
   "execution_count": 151,
   "metadata": {},
   "outputs": [
    {
     "data": {
      "text/plain": [
       "'C:\\\\Users\\\\Majid\\\\Desktop'"
      ]
     },
     "execution_count": 151,
     "metadata": {},
     "output_type": "execute_result"
    }
   ],
   "source": [
    "os.getcwd()"
   ]
  },
  {
   "cell_type": "code",
   "execution_count": null,
   "metadata": {},
   "outputs": [],
   "source": []
  }
 ],
 "metadata": {
  "kernelspec": {
   "display_name": "Python 3",
   "language": "python",
   "name": "python3"
  },
  "language_info": {
   "codemirror_mode": {
    "name": "ipython",
    "version": 3
   },
   "file_extension": ".py",
   "mimetype": "text/x-python",
   "name": "python",
   "nbconvert_exporter": "python",
   "pygments_lexer": "ipython3",
   "version": "3.8.3"
  }
 },
 "nbformat": 4,
 "nbformat_minor": 4
}
